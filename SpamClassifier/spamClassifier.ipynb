{
 "cells": [
  {
   "cell_type": "markdown",
   "metadata": {},
   "source": [
    "The candidate shall develop a technology for a specific spam detection, based on the provenance and content of the email. An email shall be treated as spam when it comes from a mail domain (smtp sender) that is classified as spamming, or it contains a set of terms that are referrable to spam. The training phase shall deliver a model of spam that is compatible with the above specifications. \n",
    "\n",
    "The training set of the process can be found on https://www.kaggle.com/datasets/balaka18/email-spam-classification-dataset-csv and can be implemented either:\n",
    "\n",
    "- by using a naive Bayes classifier; \n",
    "\n",
    "- or by using a FFNN;\n",
    "\n",
    "- or by using an MLP with two layers.\n",
    "\n",
    "The technology is to be implemented by using either NLTK with Python or OpenNLP with Java. The solution shall be valued based on the correctness, completeness and consistency of the solution implemented. For the evaluation, we shall consider confusion matrix, with specific emphasis on the F1 measure.\n",
    "\n",
    "Overall, students shall deliver the solution via GitHub. On accessing the solution we value it by anti-cheating technologies, and therefore it will not be considered acceptable when more than 60% of the code is not original. Along with the solution, please upload also the confusion matrix and some analysis on the effectiveness. No value shall be given to solution strength. If a solution is not at the state-of-the-art, we consider it fine in any case, provided it comes along with the above characteristics."
   ]
  },
  {
   "cell_type": "markdown",
   "metadata": {},
   "source": [
    "### Steps that we are going to follow: \n",
    "\n",
    "* Import Libraries.\n",
    "* Load the dataset.\n",
    "* Prepare the Data for NLTK.\n",
    "* Split the Data into Training and Test Sets.\n",
    "* Train the Naive Bayes Classifier.\n",
    "* Evaluate the Classifier.\n",
    "* Check the result."
   ]
  },
  {
   "cell_type": "code",
   "execution_count": 1,
   "metadata": {},
   "outputs": [],
   "source": [
    "# Step 1: Importing the libraries.\n",
    "\n",
    "import nltk\n",
    "import pandas as pd\n",
    "from nltk.classify import NaiveBayesClassifier as nbc\n",
    "from sklearn.model_selection import train_test_split\n",
    "from sklearn.metrics import classification_report, confusion_matrix\n"
   ]
  },
  {
   "cell_type": "code",
   "execution_count": 3,
   "metadata": {},
   "outputs": [],
   "source": [
    "# Step 2: Load the dataset.\n",
    "# Here the dataset is downloaded.\n",
    "\n",
    "data_set = pd.read_csv('emails.csv')"
   ]
  }
 ],
 "metadata": {
  "kernelspec": {
   "display_name": "nlp_env",
   "language": "python",
   "name": "python3"
  },
  "language_info": {
   "codemirror_mode": {
    "name": "ipython",
    "version": 3
   },
   "file_extension": ".py",
   "mimetype": "text/x-python",
   "name": "python",
   "nbconvert_exporter": "python",
   "pygments_lexer": "ipython3",
   "version": "3.12.7"
  }
 },
 "nbformat": 4,
 "nbformat_minor": 2
}
